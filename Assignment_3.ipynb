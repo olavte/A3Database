{
 "cells": [
  {
   "cell_type": "markdown",
   "metadata": {},
   "source": [
    "Assignment Instructions:\n",
    "\n",
    "1.Design a relational database for an education system, which fulfils the following requirements:\n",
    "\n",
    "* Information of departments, programs, students, teachers and courses are stored in the databases.\n",
    "* The relationships of departments, programs, students, teachers and courses are stored in the databases.\n",
    "* Departments provide different programs. Each program belongs to one department.\n",
    "* Each course has at least one teacher. It is possible that one course has two or more teachers. And each course is hosted by one department.\n",
    "* Each teacher belongs to one department.\n",
    "* Each program has several courses. It is possible that one course is shared by two or more different programs.\n",
    "* Each student belongs to one program.\n",
    "* At one semester, students can choose different courses which belong to their programs.\n",
    "* There are mandatory and elective courses. It is possible for a student to choose elective courses from other programs.\n",
    "* Each course has its own credits.\n",
    "* There is a maximam limit of total credits that students can get in one semester. This means there is a limit of number of courses one student can chose at each semester.\n",
    "* Some courses have pre-course requirements. And some courses cannot be chosen at the same time.\n",
    "* Design queries that are useful for teachers, students, student adminitrators. For example, how many credits a student has obtained? how many are mandatory credits? How many more mandatory/elective credits s/he has to obtain to graduate?\n",
    "\n",
    "2.To design a databse step by step, read this [Quick-Start Tutorial on Relational Database Design](https://www.ntu.edu.sg/home/ehchua/programming/sql/Relational_Database_Design.html).\n",
    " \n",
    "\n",
    "3.Create tables based on your design for this education system in the provided empty SQLite database \"empty_db.db\". For each table, the description of table and the corresponding create sql need to be listed in the notebook. One simple example has been given.\n",
    "\n",
    "* Rename the db file as \"\"\n",
    "* Command for \"show tables\" with ipython-sql: \"%sql SELECT name FROM sqlite_master WHERE type='table' ORDER BY name;\"\n",
    "* Command for \"describe tables\" with ipython-sql: \"%sql PRAGMA table_info(Table_Name);\"\n",
    "* If working with a shell or DOS prompt, Sqlite also provides command \".tables\" and \".schema Table_Name\".\n",
    "* More information on Sqlite can be found at [Sqlite Quick Start](https://sqlite.org/quickstart.html)"
   ]
  },
  {
   "cell_type": "code",
   "execution_count": 27,
   "metadata": {},
   "outputs": [
    {
     "name": "stdout",
     "output_type": "stream",
     "text": [
      "The sql extension is already loaded. To reload it, use:\n",
      "  %reload_ext sql\n"
     ]
    }
   ],
   "source": [
    "%load_ext sql"
   ]
  },
  {
   "cell_type": "markdown",
   "metadata": {},
   "source": [
    "Example:\n",
    "\n",
    "Table: student\n",
    "\n",
    "Description: Information of students are stored in this table, such as name and email."
   ]
  },
  {
   "cell_type": "code",
   "execution_count": 28,
   "metadata": {},
   "outputs": [
    {
     "data": {
      "text/plain": [
       "u'Connected: None@A3database.db'"
      ]
     },
     "execution_count": 28,
     "metadata": {},
     "output_type": "execute_result"
    }
   ],
   "source": [
    "%sql sqlite:///A3database.db"
   ]
  },
  {
   "cell_type": "markdown",
   "metadata": {},
   "source": [
    "## Creating Tables and Inserting Data"
   ]
  },
  {
   "cell_type": "code",
   "execution_count": 29,
   "metadata": {},
   "outputs": [
    {
     "name": "stdout",
     "output_type": "stream",
     "text": [
      "Done.\n",
      "Done.\n",
      "2 rows affected.\n",
      "Done.\n"
     ]
    },
    {
     "data": {
      "text/html": [
       "<table>\n",
       "    <tr>\n",
       "        <th>dID</th>\n",
       "        <th>name</th>\n",
       "    </tr>\n",
       "    <tr>\n",
       "        <td>1</td>\n",
       "        <td>Economy</td>\n",
       "    </tr>\n",
       "    <tr>\n",
       "        <td>2</td>\n",
       "        <td>Science</td>\n",
       "    </tr>\n",
       "</table>"
      ],
      "text/plain": [
       "[(1, u'Economy'), (2, u'Science')]"
      ]
     },
     "execution_count": 29,
     "metadata": {},
     "output_type": "execute_result"
    }
   ],
   "source": [
    "%%sql \n",
    "DROP TABLE IF EXISTS department;\n",
    "CREATE TABLE department (\n",
    "    dID int NOT NULL UNIQUE,\n",
    "    name varchar(255) NOT NULL DEFAULT '',\n",
    "    PRIMARY KEY(dID)\n",
    ");\n",
    "INSERT INTO department VALUES (1, \"Economy\"), (2, \"Science\");\n",
    "select *\n",
    "from department"
   ]
  },
  {
   "cell_type": "code",
   "execution_count": 30,
   "metadata": {
    "scrolled": true
   },
   "outputs": [
    {
     "name": "stdout",
     "output_type": "stream",
     "text": [
      "Done.\n",
      "Done.\n",
      "6 rows affected.\n",
      "Done.\n"
     ]
    },
    {
     "data": {
      "text/html": [
       "<table>\n",
       "    <tr>\n",
       "        <th>cID</th>\n",
       "        <th>name</th>\n",
       "        <th>credits</th>\n",
       "        <th>mandatory</th>\n",
       "    </tr>\n",
       "    <tr>\n",
       "        <td>1</td>\n",
       "        <td>Economy</td>\n",
       "        <td>5</td>\n",
       "        <td>1</td>\n",
       "    </tr>\n",
       "    <tr>\n",
       "        <td>2</td>\n",
       "        <td>ComputerScience</td>\n",
       "        <td>10</td>\n",
       "        <td>1</td>\n",
       "    </tr>\n",
       "    <tr>\n",
       "        <td>3</td>\n",
       "        <td>Math</td>\n",
       "        <td>10</td>\n",
       "        <td>1</td>\n",
       "    </tr>\n",
       "    <tr>\n",
       "        <td>4</td>\n",
       "        <td>Database</td>\n",
       "        <td>10</td>\n",
       "        <td>1</td>\n",
       "    </tr>\n",
       "    <tr>\n",
       "        <td>5</td>\n",
       "        <td>DiscreteMath</td>\n",
       "        <td>10</td>\n",
       "        <td>1</td>\n",
       "    </tr>\n",
       "    <tr>\n",
       "        <td>6</td>\n",
       "        <td>Physichs</td>\n",
       "        <td>10</td>\n",
       "        <td>0</td>\n",
       "    </tr>\n",
       "</table>"
      ],
      "text/plain": [
       "[(1, u'Economy', 5, 1),\n",
       " (2, u'ComputerScience', 10, 1),\n",
       " (3, u'Math', 10, 1),\n",
       " (4, u'Database', 10, 1),\n",
       " (5, u'DiscreteMath', 10, 1),\n",
       " (6, u'Physichs', 10, 0)]"
      ]
     },
     "execution_count": 30,
     "metadata": {},
     "output_type": "execute_result"
    }
   ],
   "source": [
    "%%sql\n",
    "DROP TABLE IF EXISTS course;\n",
    "CREATE TABLE course (\n",
    "    cID int NOT NULL UNIQUE,\n",
    "    name varchar(255) NOT NULL DEFAULT '',\n",
    "    credits int CHECK (credits<=10) NOT NULL,\n",
    "    mandatory bool,\n",
    "    PRIMARY KEY(cID)\n",
    ");\n",
    "\n",
    "INSERT INTO course VALUES (1, \"Economy\", 5, 1), \n",
    "                            (2, \"ComputerScience\", 10, 1), \n",
    "                            (3, \"Math\", 10, 1),\n",
    "                            (4, \"Database\", 10, 1), \n",
    "                            (5, \"DiscreteMath\", 10, 1),\n",
    "                            (6, \"Physichs\", 10, 0);\n",
    "select *\n",
    "from course"
   ]
  },
  {
   "cell_type": "code",
   "execution_count": 31,
   "metadata": {},
   "outputs": [
    {
     "name": "stdout",
     "output_type": "stream",
     "text": [
      "Done.\n",
      "Done.\n",
      "5 rows affected.\n",
      "Done.\n"
     ]
    },
    {
     "data": {
      "text/html": [
       "<table>\n",
       "    <tr>\n",
       "        <th>pID</th>\n",
       "        <th>dID</th>\n",
       "        <th>name</th>\n",
       "    </tr>\n",
       "    <tr>\n",
       "        <td>1</td>\n",
       "        <td>2</td>\n",
       "        <td>Computer</td>\n",
       "    </tr>\n",
       "    <tr>\n",
       "        <td>2</td>\n",
       "        <td>2</td>\n",
       "        <td>Auto</td>\n",
       "    </tr>\n",
       "    <tr>\n",
       "        <td>3</td>\n",
       "        <td>2</td>\n",
       "        <td>Electro</td>\n",
       "    </tr>\n",
       "    <tr>\n",
       "        <td>4</td>\n",
       "        <td>1</td>\n",
       "        <td>Economy</td>\n",
       "    </tr>\n",
       "    <tr>\n",
       "        <td>5</td>\n",
       "        <td>1</td>\n",
       "        <td>GlobalEconomy</td>\n",
       "    </tr>\n",
       "</table>"
      ],
      "text/plain": [
       "[(1, 2, u'Computer'),\n",
       " (2, 2, u'Auto'),\n",
       " (3, 2, u'Electro'),\n",
       " (4, 1, u'Economy'),\n",
       " (5, 1, u'GlobalEconomy')]"
      ]
     },
     "execution_count": 31,
     "metadata": {},
     "output_type": "execute_result"
    }
   ],
   "source": [
    "%%sql\n",
    "DROP TABLE IF EXISTS program;\n",
    "CREATE TABLE program (\n",
    "    pID int NOT NULL UNIQUE,\n",
    "    dID int,\n",
    "    name varchar(255) NOT NULL DEFAULT '',\n",
    "    PRIMARY KEY(pID),\n",
    "    FOREIGN KEY (dID) REFERENCES department(dID)\n",
    ");\n",
    "\n",
    "INSERT INTO program VALUES (1, 2, \"Computer\"), \n",
    "                            (2, 2, \"Auto\"), \n",
    "                            (3, 2, \"Electro\"),\n",
    "                            (4, 1, \"Economy\"), \n",
    "                            (5, 1, \"GlobalEconomy\");\n",
    "select *\n",
    "from program"
   ]
  },
  {
   "cell_type": "code",
   "execution_count": 32,
   "metadata": {},
   "outputs": [
    {
     "name": "stdout",
     "output_type": "stream",
     "text": [
      "Done.\n",
      "Done.\n",
      "3 rows affected.\n",
      "Done.\n"
     ]
    },
    {
     "data": {
      "text/html": [
       "<table>\n",
       "    <tr>\n",
       "        <th>sID</th>\n",
       "        <th>pID</th>\n",
       "        <th>first_name</th>\n",
       "        <th>last_name</th>\n",
       "        <th>email</th>\n",
       "        <th>credits</th>\n",
       "    </tr>\n",
       "    <tr>\n",
       "        <td>1</td>\n",
       "        <td>2</td>\n",
       "        <td>Olav</td>\n",
       "        <td>Telseth</td>\n",
       "        <td>olav@ntnu.stud.no</td>\n",
       "        <td>0</td>\n",
       "    </tr>\n",
       "    <tr>\n",
       "        <td>2</td>\n",
       "        <td>2</td>\n",
       "        <td>Simon</td>\n",
       "        <td>Synnes</td>\n",
       "        <td>simon@ntnu.stud.no</td>\n",
       "        <td>0</td>\n",
       "    </tr>\n",
       "    <tr>\n",
       "        <td>3</td>\n",
       "        <td>2</td>\n",
       "        <td>Einar</td>\n",
       "        <td>Weltan</td>\n",
       "        <td>einar@ntnu.stud.no</td>\n",
       "        <td>0</td>\n",
       "    </tr>\n",
       "</table>"
      ],
      "text/plain": [
       "[(1, 2, u'Olav', u'Telseth', u'olav@ntnu.stud.no', 0),\n",
       " (2, 2, u'Simon', u'Synnes', u'simon@ntnu.stud.no', 0),\n",
       " (3, 2, u'Einar', u'Weltan', u'einar@ntnu.stud.no', 0)]"
      ]
     },
     "execution_count": 32,
     "metadata": {},
     "output_type": "execute_result"
    }
   ],
   "source": [
    "%%sql \n",
    "DROP TABLE IF EXISTS student;\n",
    "CREATE TABLE student (\n",
    "    sID int NOT NULL UNIQUE,\n",
    "    pID int,\n",
    "    first_name varchar(255) NOT NULL DEFAULT '',\n",
    "    last_name varchar(255) NOT NULL DEFAULT '',\n",
    "    email varchar(255) NOT NULL DEFAULT '',\n",
    "    credits int CHECK (credits<=30) NOT NULL,\n",
    "    PRIMARY KEY(sID),\n",
    "    FOREIGN KEY (pID) REFERENCES program(pID)\n",
    ");\n",
    "INSERT INTO student VALUES (1, 2, \"Olav\", \"Telseth\", \"olav@ntnu.stud.no\", 0), \n",
    "                            (2, 2, \"Simon\", \"Synnes\", \"simon@ntnu.stud.no\", 0), \n",
    "                            (3, 2, \"Einar\", \"Weltan\", \"einar@ntnu.stud.no\", 0);\n",
    "select *\n",
    "from student"
   ]
  },
  {
   "cell_type": "code",
   "execution_count": 33,
   "metadata": {},
   "outputs": [
    {
     "name": "stdout",
     "output_type": "stream",
     "text": [
      "Done.\n",
      "Done.\n",
      "3 rows affected.\n",
      "Done.\n"
     ]
    },
    {
     "data": {
      "text/html": [
       "<table>\n",
       "    <tr>\n",
       "        <th>tID</th>\n",
       "        <th>dID</th>\n",
       "        <th>first_name</th>\n",
       "        <th>last_name</th>\n",
       "        <th>email</th>\n",
       "    </tr>\n",
       "    <tr>\n",
       "        <td>1</td>\n",
       "        <td>2</td>\n",
       "        <td>Hao</td>\n",
       "        <td>Wang</td>\n",
       "        <td>Wang@Mail.no</td>\n",
       "    </tr>\n",
       "    <tr>\n",
       "        <td>2</td>\n",
       "        <td>2</td>\n",
       "        <td>Girts</td>\n",
       "        <td>Strazdin</td>\n",
       "        <td>Strazdin@Mail.no</td>\n",
       "    </tr>\n",
       "    <tr>\n",
       "        <td>3</td>\n",
       "        <td>2</td>\n",
       "        <td>Bob</td>\n",
       "        <td>Bobbyson</td>\n",
       "        <td>Bobbyson@Mail.no</td>\n",
       "    </tr>\n",
       "</table>"
      ],
      "text/plain": [
       "[(1, 2, u'Hao', u'Wang', u'Wang@Mail.no'),\n",
       " (2, 2, u'Girts', u'Strazdin', u'Strazdin@Mail.no'),\n",
       " (3, 2, u'Bob', u'Bobbyson', u'Bobbyson@Mail.no')]"
      ]
     },
     "execution_count": 33,
     "metadata": {},
     "output_type": "execute_result"
    }
   ],
   "source": [
    "%%sql \n",
    "DROP TABLE IF EXISTS teacher;\n",
    "CREATE TABLE teacher (\n",
    "    tID int NOT NULL UNIQUE,\n",
    "    dID int NOT NULL,\n",
    "    first_name varchar(255) NOT NULL DEFAULT '',\n",
    "    last_name varchar(255) NOT NULL DEFAULT '',\n",
    "    email varchar(255) NOT NULL DEFAULT '',\n",
    "    PRIMARY KEY(tID),\n",
    "    FOREIGN KEY (dID) REFERENCES department (dID)\n",
    ");\n",
    "INSERT INTO teacher VALUES (1, 2, \"Hao\", \"Wang\", \"Wang@Mail.no\"), \n",
    "                            (2, 2, \"Girts\", \"Strazdin\", \"Strazdin@Mail.no\"), \n",
    "                            (3, 2, \"Bob\", \"Bobbyson\", \"Bobbyson@Mail.no\");\n",
    "select *\n",
    "from teacher"
   ]
  },
  {
   "cell_type": "markdown",
   "metadata": {
    "collapsed": true
   },
   "source": [
    "### Making the relation tables"
   ]
  },
  {
   "cell_type": "code",
   "execution_count": 59,
   "metadata": {},
   "outputs": [
    {
     "name": "stdout",
     "output_type": "stream",
     "text": [
      "Done.\n",
      "Done.\n",
      "6 rows affected.\n",
      "Done.\n"
     ]
    },
    {
     "data": {
      "text/html": [
       "<table>\n",
       "    <tr>\n",
       "        <th>sID</th>\n",
       "        <th>cID</th>\n",
       "        <th>grade</th>\n",
       "    </tr>\n",
       "    <tr>\n",
       "        <td>1</td>\n",
       "        <td>2</td>\n",
       "        <td>5</td>\n",
       "    </tr>\n",
       "    <tr>\n",
       "        <td>2</td>\n",
       "        <td>2</td>\n",
       "        <td>4</td>\n",
       "    </tr>\n",
       "    <tr>\n",
       "        <td>3</td>\n",
       "        <td>2</td>\n",
       "        <td>6</td>\n",
       "    </tr>\n",
       "    <tr>\n",
       "        <td>1</td>\n",
       "        <td>1</td>\n",
       "        <td>3</td>\n",
       "    </tr>\n",
       "    <tr>\n",
       "        <td>2</td>\n",
       "        <td>1</td>\n",
       "        <td>5</td>\n",
       "    </tr>\n",
       "    <tr>\n",
       "        <td>1</td>\n",
       "        <td>6</td>\n",
       "        <td>6</td>\n",
       "    </tr>\n",
       "</table>"
      ],
      "text/plain": [
       "[(1, 2, 5), (2, 2, 4), (3, 2, 6), (1, 1, 3), (2, 1, 5), (1, 6, 6)]"
      ]
     },
     "execution_count": 59,
     "metadata": {},
     "output_type": "execute_result"
    }
   ],
   "source": [
    "%%sql\n",
    "DROP TABLE IF EXISTS enrollment;\n",
    "CREATE TABLE enrollment (\n",
    "    sID int NOT NULL,\n",
    "    cID int NOT NULL,\n",
    "    grade int,\n",
    "    PRIMARY KEY(sID, cID),\n",
    "    FOREIGN KEY (cID) REFERENCES course(cID),\n",
    "    FOREIGN KEY (sID) REFERENCES student(sID)\n",
    ");\n",
    "\n",
    "INSERT INTO enrollment VALUES (1, 2, 5), (2, 2, 4), (3, 2, 6), (1, 1, 3), (2, 1, 5), (1, 6, 6);\n",
    "select *\n",
    "from enrollment"
   ]
  },
  {
   "cell_type": "code",
   "execution_count": 48,
   "metadata": {},
   "outputs": [
    {
     "name": "stdout",
     "output_type": "stream",
     "text": [
      "Done.\n",
      "Done.\n",
      "4 rows affected.\n",
      "Done.\n"
     ]
    },
    {
     "data": {
      "text/html": [
       "<table>\n",
       "    <tr>\n",
       "        <th>cID</th>\n",
       "        <th>tID</th>\n",
       "    </tr>\n",
       "    <tr>\n",
       "        <td>1</td>\n",
       "        <td>1</td>\n",
       "    </tr>\n",
       "    <tr>\n",
       "        <td>2</td>\n",
       "        <td>2</td>\n",
       "    </tr>\n",
       "    <tr>\n",
       "        <td>3</td>\n",
       "        <td>3</td>\n",
       "    </tr>\n",
       "    <tr>\n",
       "        <td>2</td>\n",
       "        <td>1</td>\n",
       "    </tr>\n",
       "</table>"
      ],
      "text/plain": [
       "[(1, 1), (2, 2), (3, 3), (2, 1)]"
      ]
     },
     "execution_count": 48,
     "metadata": {},
     "output_type": "execute_result"
    }
   ],
   "source": [
    "%%sql\n",
    "DROP TABLE IF EXISTS lecture;\n",
    "CREATE TABLE lecture (\n",
    "    cID int NOT NULL,\n",
    "    tID int NOT NULL,\n",
    "    PRIMARY KEY(cID, tID),\n",
    "    FOREIGN KEY (cID) REFERENCES course(cID),\n",
    "    FOREIGN KEY (tID) REFERENCES teacher(tID)\n",
    ");\n",
    "\n",
    "INSERT INTO lecture VALUES (1, 1), (2, 2), (3, 3), (2, 1);\n",
    "select *\n",
    "from lecture;"
   ]
  },
  {
   "cell_type": "code",
   "execution_count": 36,
   "metadata": {},
   "outputs": [
    {
     "name": "stdout",
     "output_type": "stream",
     "text": [
      "Done.\n",
      "Done.\n",
      "2 rows affected.\n",
      "Done.\n"
     ]
    },
    {
     "data": {
      "text/html": [
       "<table>\n",
       "    <tr>\n",
       "        <th>cID</th>\n",
       "        <th>pID</th>\n",
       "    </tr>\n",
       "    <tr>\n",
       "        <td>1</td>\n",
       "        <td>1</td>\n",
       "    </tr>\n",
       "    <tr>\n",
       "        <td>1</td>\n",
       "        <td>2</td>\n",
       "    </tr>\n",
       "</table>"
      ],
      "text/plain": [
       "[(1, 1), (1, 2)]"
      ]
     },
     "execution_count": 36,
     "metadata": {},
     "output_type": "execute_result"
    }
   ],
   "source": [
    "%%sql\n",
    "DROP TABLE IF EXISTS courses;\n",
    "CREATE TABLE courses (\n",
    "    cID int NOT NULL,\n",
    "    pID int NOT NULL,\n",
    "    PRIMARY KEY(cID, pID),\n",
    "    FOREIGN KEY (cID) REFERENCES course(cID),\n",
    "    FOREIGN KEY (pID) REFERENCES program(pID)\n",
    ");\n",
    "\n",
    "INSERT INTO courses VALUES (1, 1), (1, 2);\n",
    "select *\n",
    "from courses;"
   ]
  },
  {
   "cell_type": "markdown",
   "metadata": {},
   "source": [
    "## Queries"
   ]
  },
  {
   "cell_type": "markdown",
   "metadata": {},
   "source": [
    "#### Query for updating the student credits "
   ]
  },
  {
   "cell_type": "code",
   "execution_count": 60,
   "metadata": {},
   "outputs": [
    {
     "name": "stdout",
     "output_type": "stream",
     "text": [
      "3 rows affected.\n",
      "Done.\n"
     ]
    },
    {
     "data": {
      "text/html": [
       "<table>\n",
       "    <tr>\n",
       "        <th>sID</th>\n",
       "        <th>pID</th>\n",
       "        <th>first_name</th>\n",
       "        <th>last_name</th>\n",
       "        <th>email</th>\n",
       "        <th>credits</th>\n",
       "    </tr>\n",
       "    <tr>\n",
       "        <td>1</td>\n",
       "        <td>2</td>\n",
       "        <td>Olav</td>\n",
       "        <td>Telseth</td>\n",
       "        <td>olav@ntnu.stud.no</td>\n",
       "        <td>25</td>\n",
       "    </tr>\n",
       "    <tr>\n",
       "        <td>2</td>\n",
       "        <td>2</td>\n",
       "        <td>Simon</td>\n",
       "        <td>Synnes</td>\n",
       "        <td>simon@ntnu.stud.no</td>\n",
       "        <td>15</td>\n",
       "    </tr>\n",
       "    <tr>\n",
       "        <td>3</td>\n",
       "        <td>2</td>\n",
       "        <td>Einar</td>\n",
       "        <td>Weltan</td>\n",
       "        <td>einar@ntnu.stud.no</td>\n",
       "        <td>10</td>\n",
       "    </tr>\n",
       "</table>"
      ],
      "text/plain": [
       "[(1, 2, u'Olav', u'Telseth', u'olav@ntnu.stud.no', 25),\n",
       " (2, 2, u'Simon', u'Synnes', u'simon@ntnu.stud.no', 15),\n",
       " (3, 2, u'Einar', u'Weltan', u'einar@ntnu.stud.no', 10)]"
      ]
     },
     "execution_count": 60,
     "metadata": {},
     "output_type": "execute_result"
    }
   ],
   "source": [
    "%%sql\n",
    "update student\n",
    "set credits = (select sum(credits) from course, enrollment where course.cID = enrollment.cID and enrollment.sID = student.sID);\n",
    "\n",
    "select *\n",
    "from student;"
   ]
  },
  {
   "cell_type": "markdown",
   "metadata": {
    "collapsed": true
   },
   "source": [
    "#### Query for finding credits left for each student to graduate"
   ]
  },
  {
   "cell_type": "code",
   "execution_count": 38,
   "metadata": {},
   "outputs": [
    {
     "name": "stdout",
     "output_type": "stream",
     "text": [
      "Done.\n"
     ]
    },
    {
     "data": {
      "text/html": [
       "<table>\n",
       "    <tr>\n",
       "        <th>firstname</th>\n",
       "        <th>lastname</th>\n",
       "        <th>creditsLeft</th>\n",
       "    </tr>\n",
       "    <tr>\n",
       "        <td>Olav</td>\n",
       "        <td>Telseth</td>\n",
       "        <td>5</td>\n",
       "    </tr>\n",
       "    <tr>\n",
       "        <td>Simon</td>\n",
       "        <td>Synnes</td>\n",
       "        <td>15</td>\n",
       "    </tr>\n",
       "    <tr>\n",
       "        <td>Einar</td>\n",
       "        <td>Weltan</td>\n",
       "        <td>20</td>\n",
       "    </tr>\n",
       "</table>"
      ],
      "text/plain": [
       "[(u'Olav', u'Telseth', 5),\n",
       " (u'Simon', u'Synnes', 15),\n",
       " (u'Einar', u'Weltan', 20)]"
      ]
     },
     "execution_count": 38,
     "metadata": {},
     "output_type": "execute_result"
    }
   ],
   "source": [
    "%%sql\n",
    "select first_name as firstname, last_name as lastname, (30 - credits) as creditsLeft\n",
    "from student\n",
    "group by sID;"
   ]
  },
  {
   "cell_type": "markdown",
   "metadata": {
    "collapsed": true
   },
   "source": [
    "#### Query for finding current credits for each student"
   ]
  },
  {
   "cell_type": "code",
   "execution_count": 39,
   "metadata": {},
   "outputs": [
    {
     "name": "stdout",
     "output_type": "stream",
     "text": [
      "Done.\n"
     ]
    },
    {
     "data": {
      "text/html": [
       "<table>\n",
       "    <tr>\n",
       "        <th>firstname</th>\n",
       "        <th>lastname</th>\n",
       "        <th>creditsLeft</th>\n",
       "    </tr>\n",
       "    <tr>\n",
       "        <td>Olav</td>\n",
       "        <td>Telseth</td>\n",
       "        <td>25</td>\n",
       "    </tr>\n",
       "    <tr>\n",
       "        <td>Simon</td>\n",
       "        <td>Synnes</td>\n",
       "        <td>15</td>\n",
       "    </tr>\n",
       "    <tr>\n",
       "        <td>Einar</td>\n",
       "        <td>Weltan</td>\n",
       "        <td>10</td>\n",
       "    </tr>\n",
       "</table>"
      ],
      "text/plain": [
       "[(u'Olav', u'Telseth', 25),\n",
       " (u'Simon', u'Synnes', 15),\n",
       " (u'Einar', u'Weltan', 10)]"
      ]
     },
     "execution_count": 39,
     "metadata": {},
     "output_type": "execute_result"
    }
   ],
   "source": [
    "%%sql\n",
    "select first_name as firstname, last_name as lastname, credits as creditsLeft\n",
    "from student\n",
    "group by sID;"
   ]
  },
  {
   "cell_type": "markdown",
   "metadata": {},
   "source": [
    "#### Query for finding mandotory and elective credits"
   ]
  },
  {
   "cell_type": "code",
   "execution_count": 40,
   "metadata": {},
   "outputs": [
    {
     "name": "stdout",
     "output_type": "stream",
     "text": [
      "Done.\n"
     ]
    },
    {
     "data": {
      "text/html": [
       "<table>\n",
       "    <tr>\n",
       "        <th>Name</th>\n",
       "        <th>MandatoryCredits</th>\n",
       "        <th>ElectiveCredits</th>\n",
       "    </tr>\n",
       "    <tr>\n",
       "        <td>Olav</td>\n",
       "        <td>15</td>\n",
       "        <td>10</td>\n",
       "    </tr>\n",
       "</table>"
      ],
      "text/plain": [
       "[(u'Olav', 15, 10)]"
      ]
     },
     "execution_count": 40,
     "metadata": {},
     "output_type": "execute_result"
    }
   ],
   "source": [
    "%%sql\n",
    "select man.n1 as Name, man.tot1 as MandatoryCredits, ele.tot1 as ElectiveCredits\n",
    "from (select first_name n1, sum(course.credits) as tot1 \n",
    "      from student join enrollment using (sID) join course using (cID) where mandatory = 1 and first_name = \"Olav\") as man,\n",
    "(select first_name n2, sum(course.credits) as tot1 \n",
    "      from student join enrollment using (sID) join course using (cID) where mandatory = 0 and first_name = \"Olav\") as ele"
   ]
  },
  {
   "cell_type": "code",
   "execution_count": 41,
   "metadata": {},
   "outputs": [
    {
     "name": "stdout",
     "output_type": "stream",
     "text": [
      "Done.\n"
     ]
    },
    {
     "data": {
      "text/html": [
       "<table>\n",
       "    <tr>\n",
       "        <th>Name</th>\n",
       "        <th>MandatoryCredits</th>\n",
       "        <th>ElectiveCredits</th>\n",
       "        <th>Sum</th>\n",
       "    </tr>\n",
       "    <tr>\n",
       "        <td>Einar</td>\n",
       "        <td>10</td>\n",
       "        <td>None</td>\n",
       "        <td>10</td>\n",
       "    </tr>\n",
       "    <tr>\n",
       "        <td>Olav</td>\n",
       "        <td>15</td>\n",
       "        <td>10</td>\n",
       "        <td>25</td>\n",
       "    </tr>\n",
       "    <tr>\n",
       "        <td>Simon</td>\n",
       "        <td>15</td>\n",
       "        <td>None</td>\n",
       "        <td>15</td>\n",
       "    </tr>\n",
       "</table>"
      ],
      "text/plain": [
       "[(u'Einar', 10, None, 10), (u'Olav', 15, 10, 25), (u'Simon', 15, None, 15)]"
      ]
     },
     "execution_count": 41,
     "metadata": {},
     "output_type": "execute_result"
    }
   ],
   "source": [
    "%%sql\n",
    "select n1 as Name, tot1 as MandatoryCredits, tot2 as ElectiveCredits, (coalesce(tot1+tot2, tot1, tot2, 0)) as Sum\n",
    "from (select first_name n1, sum(course.credits) as tot1 \n",
    "          from student join enrollment using (sID) \n",
    "          join course using (cID) where mandatory = 1  group by first_name) left join\n",
    "    (select first_name n1, sum(course.credits) as tot2\n",
    "          from student join enrollment using (sID) \n",
    "            join course using (cID) where mandatory = 0  group by first_name) using (n1)"
   ]
  },
  {
   "cell_type": "markdown",
   "metadata": {},
   "source": [
    "#### Query for finding attendees in every course"
   ]
  },
  {
   "cell_type": "code",
   "execution_count": 42,
   "metadata": {},
   "outputs": [
    {
     "name": "stdout",
     "output_type": "stream",
     "text": [
      "Done.\n"
     ]
    },
    {
     "data": {
      "text/html": [
       "<table>\n",
       "    <tr>\n",
       "        <th>name</th>\n",
       "        <th>StudentsAttendingThisClass</th>\n",
       "    </tr>\n",
       "    <tr>\n",
       "        <td>ComputerScience</td>\n",
       "        <td>3</td>\n",
       "    </tr>\n",
       "    <tr>\n",
       "        <td>Database</td>\n",
       "        <td>0</td>\n",
       "    </tr>\n",
       "    <tr>\n",
       "        <td>DiscreteMath</td>\n",
       "        <td>0</td>\n",
       "    </tr>\n",
       "    <tr>\n",
       "        <td>Economy</td>\n",
       "        <td>2</td>\n",
       "    </tr>\n",
       "    <tr>\n",
       "        <td>Math</td>\n",
       "        <td>0</td>\n",
       "    </tr>\n",
       "    <tr>\n",
       "        <td>Physichs</td>\n",
       "        <td>1</td>\n",
       "    </tr>\n",
       "</table>"
      ],
      "text/plain": [
       "[(u'ComputerScience', 3),\n",
       " (u'Database', 0),\n",
       " (u'DiscreteMath', 0),\n",
       " (u'Economy', 2),\n",
       " (u'Math', 0),\n",
       " (u'Physichs', 1)]"
      ]
     },
     "execution_count": 42,
     "metadata": {},
     "output_type": "execute_result"
    }
   ],
   "source": [
    "%%sql\n",
    "select name, count(sID) as StudentsAttendingThisClass\n",
    "from course left join enrollment using (cID)\n",
    "group by name"
   ]
  },
  {
   "cell_type": "markdown",
   "metadata": {
    "collapsed": true
   },
   "source": [
    "## Queries for getting couse information"
   ]
  },
  {
   "cell_type": "markdown",
   "metadata": {},
   "source": [
    "#### Getting the teahers in ComputerScience"
   ]
  },
  {
   "cell_type": "code",
   "execution_count": 43,
   "metadata": {},
   "outputs": [
    {
     "name": "stdout",
     "output_type": "stream",
     "text": [
      "Done.\n"
     ]
    },
    {
     "data": {
      "text/html": [
       "<table>\n",
       "    <tr>\n",
       "        <th>FirstName</th>\n",
       "        <th>LastName</th>\n",
       "        <th>email</th>\n",
       "    </tr>\n",
       "    <tr>\n",
       "        <td>Girts</td>\n",
       "        <td>Strazdin</td>\n",
       "        <td>Strazdin@Mail.no</td>\n",
       "    </tr>\n",
       "    <tr>\n",
       "        <td>Hao</td>\n",
       "        <td>Wang</td>\n",
       "        <td>Wang@Mail.no</td>\n",
       "    </tr>\n",
       "</table>"
      ],
      "text/plain": [
       "[(u'Girts', u'Strazdin', u'Strazdin@Mail.no'),\n",
       " (u'Hao', u'Wang', u'Wang@Mail.no')]"
      ]
     },
     "execution_count": 43,
     "metadata": {},
     "output_type": "execute_result"
    }
   ],
   "source": [
    "%%sql\n",
    "select first_name as FirstName, last_name as LastName, email\n",
    "from course join lecture using (cID) join teacher using (tID)\n",
    "where course.name = \"ComputerScience\""
   ]
  },
  {
   "cell_type": "markdown",
   "metadata": {},
   "source": [
    "#### Getting the credits for each course"
   ]
  },
  {
   "cell_type": "code",
   "execution_count": 44,
   "metadata": {},
   "outputs": [
    {
     "name": "stdout",
     "output_type": "stream",
     "text": [
      "Done.\n"
     ]
    },
    {
     "data": {
      "text/html": [
       "<table>\n",
       "    <tr>\n",
       "        <th>name</th>\n",
       "        <th>credits</th>\n",
       "        <th>mandatory</th>\n",
       "    </tr>\n",
       "    <tr>\n",
       "        <td>Economy</td>\n",
       "        <td>5</td>\n",
       "        <td>1</td>\n",
       "    </tr>\n",
       "    <tr>\n",
       "        <td>ComputerScience</td>\n",
       "        <td>10</td>\n",
       "        <td>1</td>\n",
       "    </tr>\n",
       "    <tr>\n",
       "        <td>Math</td>\n",
       "        <td>10</td>\n",
       "        <td>1</td>\n",
       "    </tr>\n",
       "    <tr>\n",
       "        <td>Database</td>\n",
       "        <td>10</td>\n",
       "        <td>1</td>\n",
       "    </tr>\n",
       "    <tr>\n",
       "        <td>DiscreteMath</td>\n",
       "        <td>10</td>\n",
       "        <td>1</td>\n",
       "    </tr>\n",
       "    <tr>\n",
       "        <td>Physichs</td>\n",
       "        <td>10</td>\n",
       "        <td>0</td>\n",
       "    </tr>\n",
       "</table>"
      ],
      "text/plain": [
       "[(u'Economy', 5, 1),\n",
       " (u'ComputerScience', 10, 1),\n",
       " (u'Math', 10, 1),\n",
       " (u'Database', 10, 1),\n",
       " (u'DiscreteMath', 10, 1),\n",
       " (u'Physichs', 10, 0)]"
      ]
     },
     "execution_count": 44,
     "metadata": {},
     "output_type": "execute_result"
    }
   ],
   "source": [
    "%%sql\n",
    "select name, credits, mandatory\n",
    "from course"
   ]
  },
  {
   "cell_type": "code",
   "execution_count": null,
   "metadata": {
    "collapsed": true
   },
   "outputs": [],
   "source": []
  },
  {
   "cell_type": "code",
   "execution_count": null,
   "metadata": {
    "collapsed": true
   },
   "outputs": [],
   "source": []
  },
  {
   "cell_type": "code",
   "execution_count": null,
   "metadata": {
    "collapsed": true
   },
   "outputs": [],
   "source": []
  },
  {
   "cell_type": "code",
   "execution_count": null,
   "metadata": {
    "collapsed": true
   },
   "outputs": [],
   "source": [
    "\n"
   ]
  }
 ],
 "metadata": {
  "kernelspec": {
   "display_name": "Python 2",
   "language": "python",
   "name": "python2"
  },
  "language_info": {
   "codemirror_mode": {
    "name": "ipython",
    "version": 2
   },
   "file_extension": ".py",
   "mimetype": "text/x-python",
   "name": "python",
   "nbconvert_exporter": "python",
   "pygments_lexer": "ipython2",
   "version": "2.7.13"
  }
 },
 "nbformat": 4,
 "nbformat_minor": 2
}
