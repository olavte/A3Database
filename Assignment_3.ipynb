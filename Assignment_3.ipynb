{
 "cells": [
  {
   "cell_type": "markdown",
   "metadata": {},
   "source": [
    "Assignment Instructions:\n",
    "\n",
    "1.Design a relational database for an education system, which fulfils the following requirements:\n",
    "\n",
    "* Information of departments, programs, students, teachers and courses are stored in the databases.\n",
    "* The relationships of departments, programs, students, teachers and courses are stored in the databases.\n",
    "* Departments provide different programs. Each program belongs to one department.\n",
    "* Each course has at least one teacher. It is possible that one course has two or more teachers. And each course is hosted by one department.\n",
    "* Each teacher belongs to one department.\n",
    "* Each program has several courses. It is possible that one course is shared by two or more different programs.\n",
    "* Each student belongs to one program.\n",
    "* At one semester, students can choose different courses which belong to their programs.\n",
    "* There are mandatory and elective courses. It is possible for a student to choose elective courses from other programs.\n",
    "* Each course has its own credits.\n",
    "* There is a maximam limit of total credits that students can get in one semester. This means there is a limit of number of courses one student can chose at each semester.\n",
    "* Some courses have pre-course requirements. And some courses cannot be chosen at the same time.\n",
    "* Design queries that are useful for teachers, students, student adminitrators. For example, how many credits a student has obtained? how many are mandatory credits? How many more mandatory/elective credits s/he has to obtain to graduate?\n",
    "\n",
    "2.To design a databse step by step, read this [Quick-Start Tutorial on Relational Database Design](https://www.ntu.edu.sg/home/ehchua/programming/sql/Relational_Database_Design.html).\n",
    " \n",
    "\n",
    "3.Create tables based on your design for this education system in the provided empty SQLite database \"empty_db.db\". For each table, the description of table and the corresponding create sql need to be listed in the notebook. One simple example has been given.\n",
    "\n",
    "* Rename the db file as \"\"\n",
    "* Command for \"show tables\" with ipython-sql: \"%sql SELECT name FROM sqlite_master WHERE type='table' ORDER BY name;\"\n",
    "* Command for \"describe tables\" with ipython-sql: \"%sql PRAGMA table_info(Table_Name);\"\n",
    "* If working with a shell or DOS prompt, Sqlite also provides command \".tables\" and \".schema Table_Name\".\n",
    "* More information on Sqlite can be found at [Sqlite Quick Start](https://sqlite.org/quickstart.html)"
   ]
  },
  {
   "cell_type": "code",
   "execution_count": 2,
   "metadata": {},
   "outputs": [
    {
     "name": "stderr",
     "output_type": "stream",
     "text": [
      "C:\\Users\\olavt\\Anaconda3\\lib\\site-packages\\IPython\\config.py:13: ShimWarning: The `IPython.config` package has been deprecated since IPython 4.0. You should import from traitlets.config instead.\n",
      "  \"You should import from traitlets.config instead.\", ShimWarning)\n",
      "C:\\Users\\olavt\\Anaconda3\\lib\\site-packages\\IPython\\utils\\traitlets.py:5: UserWarning: IPython.utils.traitlets has moved to a top-level traitlets package.\n",
      "  warn(\"IPython.utils.traitlets has moved to a top-level traitlets package.\")\n"
     ]
    }
   ],
   "source": [
    "%load_ext sql"
   ]
  },
  {
   "cell_type": "markdown",
   "metadata": {},
   "source": [
    "Example:\n",
    "\n",
    "Table: student\n",
    "\n",
    "Description: Information of students are stored in this table, such as name and email."
   ]
  },
  {
   "cell_type": "code",
   "execution_count": 3,
   "metadata": {},
   "outputs": [
    {
     "data": {
      "text/plain": [
       "'Connected: None@A3database.db'"
      ]
     },
     "execution_count": 3,
     "metadata": {},
     "output_type": "execute_result"
    }
   ],
   "source": [
    "%sql sqlite:///A3database.db"
   ]
  },
  {
   "cell_type": "code",
   "execution_count": 4,
   "metadata": {},
   "outputs": [
    {
     "name": "stdout",
     "output_type": "stream",
     "text": [
      "Done.\n",
      "Done.\n",
      "2 rows affected.\n",
      "Done.\n"
     ]
    },
    {
     "data": {
      "text/html": [
       "<table>\n",
       "    <tr>\n",
       "        <th>dID</th>\n",
       "        <th>name</th>\n",
       "    </tr>\n",
       "    <tr>\n",
       "        <td>1</td>\n",
       "        <td>Economy</td>\n",
       "    </tr>\n",
       "    <tr>\n",
       "        <td>2</td>\n",
       "        <td>Science</td>\n",
       "    </tr>\n",
       "</table>"
      ],
      "text/plain": [
       "[(1, 'Economy'), (2, 'Science')]"
      ]
     },
     "execution_count": 4,
     "metadata": {},
     "output_type": "execute_result"
    }
   ],
   "source": [
    "%%sql \n",
    "DROP TABLE IF EXISTS department;\n",
    "CREATE TABLE department (\n",
    "    dID int NOT NULL UNIQUE,\n",
    "    name varchar(255) NOT NULL DEFAULT '',\n",
    "    PRIMARY KEY(dID)\n",
    ");\n",
    "INSERT INTO department VALUES (1, \"Economy\"), (2, \"Science\");\n",
    "select *\n",
    "from department"
   ]
  },
  {
   "cell_type": "code",
   "execution_count": 194,
   "metadata": {
    "scrolled": true
   },
   "outputs": [
    {
     "name": "stdout",
     "output_type": "stream",
     "text": [
      "Done.\n",
      "Done.\n",
      "6 rows affected.\n",
      "Done.\n"
     ]
    },
    {
     "data": {
      "text/html": [
       "<table>\n",
       "    <tr>\n",
       "        <th>cID</th>\n",
       "        <th>name</th>\n",
       "        <th>credit</th>\n",
       "        <th>mandatory</th>\n",
       "    </tr>\n",
       "    <tr>\n",
       "        <td>1</td>\n",
       "        <td>Economy</td>\n",
       "        <td>5</td>\n",
       "        <td>1</td>\n",
       "    </tr>\n",
       "    <tr>\n",
       "        <td>2</td>\n",
       "        <td>ComputerScience</td>\n",
       "        <td>10</td>\n",
       "        <td>1</td>\n",
       "    </tr>\n",
       "    <tr>\n",
       "        <td>3</td>\n",
       "        <td>Math</td>\n",
       "        <td>10</td>\n",
       "        <td>1</td>\n",
       "    </tr>\n",
       "    <tr>\n",
       "        <td>4</td>\n",
       "        <td>Database</td>\n",
       "        <td>10</td>\n",
       "        <td>1</td>\n",
       "    </tr>\n",
       "    <tr>\n",
       "        <td>5</td>\n",
       "        <td>DiscreteMath</td>\n",
       "        <td>10</td>\n",
       "        <td>1</td>\n",
       "    </tr>\n",
       "    <tr>\n",
       "        <td>6</td>\n",
       "        <td>Physichs</td>\n",
       "        <td>10</td>\n",
       "        <td>0</td>\n",
       "    </tr>\n",
       "</table>"
      ],
      "text/plain": [
       "[(1, 'Economy', 5, 1),\n",
       " (2, 'ComputerScience', 10, 1),\n",
       " (3, 'Math', 10, 1),\n",
       " (4, 'Database', 10, 1),\n",
       " (5, 'DiscreteMath', 10, 1),\n",
       " (6, 'Physichs', 10, 0)]"
      ]
     },
     "execution_count": 194,
     "metadata": {},
     "output_type": "execute_result"
    }
   ],
   "source": [
    "%%sql\n",
    "DROP TABLE IF EXISTS course;\n",
    "CREATE TABLE course (\n",
    "    cID int NOT NULL UNIQUE,\n",
    "    name varchar(255) NOT NULL DEFAULT '',\n",
    "    credit int CHECK (credit<=10) NOT NULL,\n",
    "    mandatory bool,\n",
    "    PRIMARY KEY(cID)\n",
    ");\n",
    "\n",
    "INSERT INTO course VALUES (1, \"Economy\", 5, 1), \n",
    "                            (2, \"ComputerScience\", 10, 1), \n",
    "                            (3, \"Math\", 10, 1),\n",
    "                            (4, \"Database\", 10, 1), \n",
    "                            (5, \"DiscreteMath\", 10, 1),\n",
    "                            (6, \"Physichs\", 10, 0);\n",
    "select *\n",
    "from course"
   ]
  },
  {
   "cell_type": "code",
   "execution_count": 6,
   "metadata": {},
   "outputs": [
    {
     "name": "stdout",
     "output_type": "stream",
     "text": [
      "Done.\n",
      "Done.\n",
      "5 rows affected.\n",
      "Done.\n"
     ]
    },
    {
     "data": {
      "text/html": [
       "<table>\n",
       "    <tr>\n",
       "        <th>pID</th>\n",
       "        <th>dID</th>\n",
       "        <th>name</th>\n",
       "    </tr>\n",
       "    <tr>\n",
       "        <td>1</td>\n",
       "        <td>2</td>\n",
       "        <td>Computer</td>\n",
       "    </tr>\n",
       "    <tr>\n",
       "        <td>2</td>\n",
       "        <td>2</td>\n",
       "        <td>Auto</td>\n",
       "    </tr>\n",
       "    <tr>\n",
       "        <td>3</td>\n",
       "        <td>2</td>\n",
       "        <td>Electro</td>\n",
       "    </tr>\n",
       "    <tr>\n",
       "        <td>4</td>\n",
       "        <td>1</td>\n",
       "        <td>Economy</td>\n",
       "    </tr>\n",
       "    <tr>\n",
       "        <td>5</td>\n",
       "        <td>1</td>\n",
       "        <td>GlobalEconomy</td>\n",
       "    </tr>\n",
       "</table>"
      ],
      "text/plain": [
       "[(1, 2, 'Computer'),\n",
       " (2, 2, 'Auto'),\n",
       " (3, 2, 'Electro'),\n",
       " (4, 1, 'Economy'),\n",
       " (5, 1, 'GlobalEconomy')]"
      ]
     },
     "execution_count": 6,
     "metadata": {},
     "output_type": "execute_result"
    }
   ],
   "source": [
    "%%sql\n",
    "DROP TABLE IF EXISTS program;\n",
    "CREATE TABLE program (\n",
    "    pID int NOT NULL UNIQUE,\n",
    "    dID int,\n",
    "    name varchar(255) NOT NULL DEFAULT '',\n",
    "    PRIMARY KEY(pID),\n",
    "    FOREIGN KEY (dID) REFERENCES department(dID)\n",
    ");\n",
    "\n",
    "INSERT INTO program VALUES (1, 2, \"Computer\"), \n",
    "                            (2, 2, \"Auto\"), \n",
    "                            (3, 2, \"Electro\"),\n",
    "                            (4, 1, \"Economy\"), \n",
    "                            (5, 1, \"GlobalEconomy\");\n",
    "select *\n",
    "from program"
   ]
  },
  {
   "cell_type": "code",
   "execution_count": 138,
   "metadata": {},
   "outputs": [
    {
     "name": "stdout",
     "output_type": "stream",
     "text": [
      "Done.\n",
      "Done.\n",
      "3 rows affected.\n",
      "Done.\n"
     ]
    },
    {
     "data": {
      "text/html": [
       "<table>\n",
       "    <tr>\n",
       "        <th>sID</th>\n",
       "        <th>pID</th>\n",
       "        <th>first_name</th>\n",
       "        <th>last_name</th>\n",
       "        <th>email</th>\n",
       "        <th>credits</th>\n",
       "    </tr>\n",
       "    <tr>\n",
       "        <td>1</td>\n",
       "        <td>2</td>\n",
       "        <td>Olav</td>\n",
       "        <td>Telseth</td>\n",
       "        <td>olav@ntnu.stud.no</td>\n",
       "        <td>0</td>\n",
       "    </tr>\n",
       "    <tr>\n",
       "        <td>2</td>\n",
       "        <td>2</td>\n",
       "        <td>Simon</td>\n",
       "        <td>Synnes</td>\n",
       "        <td>simon@ntnu.stud.no</td>\n",
       "        <td>0</td>\n",
       "    </tr>\n",
       "    <tr>\n",
       "        <td>3</td>\n",
       "        <td>2</td>\n",
       "        <td>Einar</td>\n",
       "        <td>Weltan</td>\n",
       "        <td>einar@ntnu.stud.no</td>\n",
       "        <td>0</td>\n",
       "    </tr>\n",
       "</table>"
      ],
      "text/plain": [
       "[(1, 2, 'Olav', 'Telseth', 'olav@ntnu.stud.no', 0),\n",
       " (2, 2, 'Simon', 'Synnes', 'simon@ntnu.stud.no', 0),\n",
       " (3, 2, 'Einar', 'Weltan', 'einar@ntnu.stud.no', 0)]"
      ]
     },
     "execution_count": 138,
     "metadata": {},
     "output_type": "execute_result"
    }
   ],
   "source": [
    "%%sql \n",
    "DROP TABLE IF EXISTS student;\n",
    "CREATE TABLE student (\n",
    "    sID int NOT NULL UNIQUE,\n",
    "    pID int,\n",
    "    first_name varchar(255) NOT NULL DEFAULT '',\n",
    "    last_name varchar(255) NOT NULL DEFAULT '',\n",
    "    email varchar(255) NOT NULL DEFAULT '',\n",
    "    credits int CHECK (credits<=30) NOT NULL,\n",
    "    PRIMARY KEY(sID),\n",
    "    FOREIGN KEY (pID) REFERENCES program(pID)\n",
    ");\n",
    "INSERT INTO student VALUES (1, 2, \"Olav\", \"Telseth\", \"olav@ntnu.stud.no\", 0), \n",
    "                            (2, 2, \"Simon\", \"Synnes\", \"simon@ntnu.stud.no\", 0), \n",
    "                            (3, 2, \"Einar\", \"Weltan\", \"einar@ntnu.stud.no\", 0);\n",
    "select *\n",
    "from student"
   ]
  },
  {
   "cell_type": "code",
   "execution_count": 8,
   "metadata": {},
   "outputs": [
    {
     "name": "stdout",
     "output_type": "stream",
     "text": [
      "Done.\n",
      "Done.\n",
      "3 rows affected.\n",
      "Done.\n"
     ]
    },
    {
     "data": {
      "text/html": [
       "<table>\n",
       "    <tr>\n",
       "        <th>tID</th>\n",
       "        <th>dID</th>\n",
       "        <th>first_name</th>\n",
       "        <th>last_name</th>\n",
       "        <th>email</th>\n",
       "    </tr>\n",
       "    <tr>\n",
       "        <td>1</td>\n",
       "        <td>2</td>\n",
       "        <td>Hao</td>\n",
       "        <td>Wang</td>\n",
       "        <td>Wang@Mail.no</td>\n",
       "    </tr>\n",
       "    <tr>\n",
       "        <td>2</td>\n",
       "        <td>2</td>\n",
       "        <td>Girts</td>\n",
       "        <td>Strazdin</td>\n",
       "        <td>Strazdin@Mail.no</td>\n",
       "    </tr>\n",
       "    <tr>\n",
       "        <td>3</td>\n",
       "        <td>2</td>\n",
       "        <td>Bob</td>\n",
       "        <td>Bobbyson</td>\n",
       "        <td>Bobbyson@Mail.no</td>\n",
       "    </tr>\n",
       "</table>"
      ],
      "text/plain": [
       "[(1, 2, 'Hao', 'Wang', 'Wang@Mail.no'),\n",
       " (2, 2, 'Girts', 'Strazdin', 'Strazdin@Mail.no'),\n",
       " (3, 2, 'Bob', 'Bobbyson', 'Bobbyson@Mail.no')]"
      ]
     },
     "execution_count": 8,
     "metadata": {},
     "output_type": "execute_result"
    }
   ],
   "source": [
    "%%sql \n",
    "DROP TABLE IF EXISTS teacher;\n",
    "CREATE TABLE teacher (\n",
    "    tID int NOT NULL UNIQUE,\n",
    "    dID int NOT NULL,\n",
    "    first_name varchar(255) NOT NULL DEFAULT '',\n",
    "    last_name varchar(255) NOT NULL DEFAULT '',\n",
    "    email varchar(255) NOT NULL DEFAULT '',\n",
    "    PRIMARY KEY(tID),\n",
    "    FOREIGN KEY (dID) REFERENCES department (dID)\n",
    ");\n",
    "INSERT INTO teacher VALUES (1, 2, \"Hao\", \"Wang\", \"Wang@Mail.no\"), \n",
    "                            (2, 2, \"Girts\", \"Strazdin\", \"Strazdin@Mail.no\"), \n",
    "                            (3, 2, \"Bob\", \"Bobbyson\", \"Bobbyson@Mail.no\");\n",
    "select *\n",
    "from teacher"
   ]
  },
  {
   "cell_type": "markdown",
   "metadata": {
    "collapsed": true
   },
   "source": [
    "Making the relationstables"
   ]
  },
  {
   "cell_type": "code",
   "execution_count": 197,
   "metadata": {},
   "outputs": [
    {
     "name": "stdout",
     "output_type": "stream",
     "text": [
      "Done.\n",
      "Done.\n",
      "6 rows affected.\n",
      "Done.\n"
     ]
    },
    {
     "data": {
      "text/html": [
       "<table>\n",
       "    <tr>\n",
       "        <th>sID</th>\n",
       "        <th>cID</th>\n",
       "        <th>grade</th>\n",
       "    </tr>\n",
       "    <tr>\n",
       "        <td>1</td>\n",
       "        <td>2</td>\n",
       "        <td>5</td>\n",
       "    </tr>\n",
       "    <tr>\n",
       "        <td>2</td>\n",
       "        <td>2</td>\n",
       "        <td>4</td>\n",
       "    </tr>\n",
       "    <tr>\n",
       "        <td>3</td>\n",
       "        <td>2</td>\n",
       "        <td>6</td>\n",
       "    </tr>\n",
       "    <tr>\n",
       "        <td>1</td>\n",
       "        <td>1</td>\n",
       "        <td>3</td>\n",
       "    </tr>\n",
       "    <tr>\n",
       "        <td>2</td>\n",
       "        <td>1</td>\n",
       "        <td>5</td>\n",
       "    </tr>\n",
       "    <tr>\n",
       "        <td>1</td>\n",
       "        <td>6</td>\n",
       "        <td>6</td>\n",
       "    </tr>\n",
       "</table>"
      ],
      "text/plain": [
       "[(1, 2, 5), (2, 2, 4), (3, 2, 6), (1, 1, 3), (2, 1, 5), (1, 6, 6)]"
      ]
     },
     "execution_count": 197,
     "metadata": {},
     "output_type": "execute_result"
    }
   ],
   "source": [
    "%%sql\n",
    "DROP TABLE IF EXISTS enrollment;\n",
    "CREATE TABLE enrollment (\n",
    "    sID int NOT NULL,\n",
    "    cID int NOT NULL,\n",
    "    grade int NOT NULL,\n",
    "    PRIMARY KEY(sID, cID),\n",
    "    FOREIGN KEY (cID) REFERENCES course(cID),\n",
    "    FOREIGN KEY (sID) REFERENCES student(sID)\n",
    ");\n",
    "\n",
    "INSERT INTO enrollment VALUES (1, 2, 5), (2, 2, 4), (3, 2, 6), (1, 1, 3), (2, 1, 5), (1, 6, 6);\n",
    "select *\n",
    "from enrollment;"
   ]
  },
  {
   "cell_type": "code",
   "execution_count": 10,
   "metadata": {},
   "outputs": [
    {
     "name": "stdout",
     "output_type": "stream",
     "text": [
      "Done.\n",
      "Done.\n",
      "3 rows affected.\n",
      "Done.\n"
     ]
    },
    {
     "data": {
      "text/html": [
       "<table>\n",
       "    <tr>\n",
       "        <th>cID</th>\n",
       "        <th>tID</th>\n",
       "    </tr>\n",
       "    <tr>\n",
       "        <td>1</td>\n",
       "        <td>1</td>\n",
       "    </tr>\n",
       "    <tr>\n",
       "        <td>2</td>\n",
       "        <td>2</td>\n",
       "    </tr>\n",
       "    <tr>\n",
       "        <td>3</td>\n",
       "        <td>3</td>\n",
       "    </tr>\n",
       "</table>"
      ],
      "text/plain": [
       "[(1, 1), (2, 2), (3, 3)]"
      ]
     },
     "execution_count": 10,
     "metadata": {},
     "output_type": "execute_result"
    }
   ],
   "source": [
    "%%sql\n",
    "DROP TABLE IF EXISTS lecture;\n",
    "CREATE TABLE lecture (\n",
    "    cID int NOT NULL,\n",
    "    tID int NOT NULL,\n",
    "    PRIMARY KEY(cID, tID),\n",
    "    FOREIGN KEY (cID) REFERENCES course(cID),\n",
    "    FOREIGN KEY (tID) REFERENCES teacher(tID)\n",
    ");\n",
    "\n",
    "INSERT INTO lecture VALUES (1, 1), (2, 2), (3, 3);\n",
    "select *\n",
    "from lecture;"
   ]
  },
  {
   "cell_type": "code",
   "execution_count": 11,
   "metadata": {},
   "outputs": [
    {
     "name": "stdout",
     "output_type": "stream",
     "text": [
      "Done.\n",
      "Done.\n",
      "2 rows affected.\n",
      "Done.\n"
     ]
    },
    {
     "data": {
      "text/html": [
       "<table>\n",
       "    <tr>\n",
       "        <th>cID</th>\n",
       "        <th>pID</th>\n",
       "    </tr>\n",
       "    <tr>\n",
       "        <td>1</td>\n",
       "        <td>1</td>\n",
       "    </tr>\n",
       "    <tr>\n",
       "        <td>1</td>\n",
       "        <td>2</td>\n",
       "    </tr>\n",
       "</table>"
      ],
      "text/plain": [
       "[(1, 1), (1, 2)]"
      ]
     },
     "execution_count": 11,
     "metadata": {},
     "output_type": "execute_result"
    }
   ],
   "source": [
    "%%sql\n",
    "DROP TABLE IF EXISTS courses;\n",
    "CREATE TABLE courses (\n",
    "    cID int NOT NULL,\n",
    "    pID int NOT NULL,\n",
    "    PRIMARY KEY(cID, pID),\n",
    "    FOREIGN KEY (cID) REFERENCES course(cID),\n",
    "    FOREIGN KEY (pID) REFERENCES program(pID)\n",
    ");\n",
    "\n",
    "INSERT INTO courses VALUES (1, 1), (1, 2);\n",
    "select *\n",
    "from courses;"
   ]
  },
  {
   "cell_type": "markdown",
   "metadata": {
    "collapsed": true
   },
   "source": [
    "Query for finding credits left for each student to graduate"
   ]
  },
  {
   "cell_type": "code",
   "execution_count": 140,
   "metadata": {},
   "outputs": [
    {
     "name": "stdout",
     "output_type": "stream",
     "text": [
      "Done.\n"
     ]
    },
    {
     "data": {
      "text/html": [
       "<table>\n",
       "    <tr>\n",
       "        <th>firstname</th>\n",
       "        <th>lastname</th>\n",
       "        <th>creditsLeft</th>\n",
       "    </tr>\n",
       "    <tr>\n",
       "        <td>Olav</td>\n",
       "        <td>Telseth</td>\n",
       "        <td>30</td>\n",
       "    </tr>\n",
       "    <tr>\n",
       "        <td>Simon</td>\n",
       "        <td>Synnes</td>\n",
       "        <td>30</td>\n",
       "    </tr>\n",
       "    <tr>\n",
       "        <td>Einar</td>\n",
       "        <td>Weltan</td>\n",
       "        <td>30</td>\n",
       "    </tr>\n",
       "</table>"
      ],
      "text/plain": [
       "[('Olav', 'Telseth', 30), ('Simon', 'Synnes', 30), ('Einar', 'Weltan', 30)]"
      ]
     },
     "execution_count": 140,
     "metadata": {},
     "output_type": "execute_result"
    }
   ],
   "source": [
    "%%sql\n",
    "select first_name as firstname, last_name as lastname, (30 - credits) as creditsLeft\n",
    "from student\n",
    "group by sID"
   ]
  },
  {
   "cell_type": "markdown",
   "metadata": {
    "collapsed": true
   },
   "source": [
    "Query for finding current credits for each student"
   ]
  },
  {
   "cell_type": "code",
   "execution_count": 139,
   "metadata": {},
   "outputs": [
    {
     "name": "stdout",
     "output_type": "stream",
     "text": [
      "Done.\n"
     ]
    },
    {
     "data": {
      "text/html": [
       "<table>\n",
       "    <tr>\n",
       "        <th>firstname</th>\n",
       "        <th>lastname</th>\n",
       "        <th>creditsLeft</th>\n",
       "    </tr>\n",
       "    <tr>\n",
       "        <td>Olav</td>\n",
       "        <td>Telseth</td>\n",
       "        <td>0</td>\n",
       "    </tr>\n",
       "    <tr>\n",
       "        <td>Simon</td>\n",
       "        <td>Synnes</td>\n",
       "        <td>0</td>\n",
       "    </tr>\n",
       "    <tr>\n",
       "        <td>Einar</td>\n",
       "        <td>Weltan</td>\n",
       "        <td>0</td>\n",
       "    </tr>\n",
       "</table>"
      ],
      "text/plain": [
       "[('Olav', 'Telseth', 0), ('Simon', 'Synnes', 0), ('Einar', 'Weltan', 0)]"
      ]
     },
     "execution_count": 139,
     "metadata": {},
     "output_type": "execute_result"
    }
   ],
   "source": [
    "%%sql\n",
    "select first_name as firstname, last_name as lastname, credits as creditsLeft\n",
    "from student\n",
    "group by sID"
   ]
  },
  {
   "cell_type": "markdown",
   "metadata": {},
   "source": [
    "Query for finding mandotory and elective credits"
   ]
  },
  {
   "cell_type": "code",
   "execution_count": 264,
   "metadata": {},
   "outputs": [
    {
     "name": "stdout",
     "output_type": "stream",
     "text": [
      "Done.\n"
     ]
    },
    {
     "data": {
      "text/html": [
       "<table>\n",
       "    <tr>\n",
       "        <th>Name</th>\n",
       "        <th>MandatoryCredits</th>\n",
       "        <th>ElectiveCredits</th>\n",
       "    </tr>\n",
       "    <tr>\n",
       "        <td>Olav</td>\n",
       "        <td>15</td>\n",
       "        <td>10</td>\n",
       "    </tr>\n",
       "</table>"
      ],
      "text/plain": [
       "[('Olav', 15, 10)]"
      ]
     },
     "execution_count": 264,
     "metadata": {},
     "output_type": "execute_result"
    }
   ],
   "source": [
    "%%sql\n",
    "select man.n1 as Name, man.tot1 as MandatoryCredits, ele.tot1 as ElectiveCredits\n",
    "from (select first_name n1, sum(credit) as tot1 \n",
    "      from student join enrollment using (sID) join course using (cID) where mandatory = 1 and first_name = \"Olav\") as man,\n",
    "(select first_name n2, sum(credit) as tot1 \n",
    "      from student join enrollment using (sID) join course using (cID) where mandatory = 0 and first_name = \"Olav\") as ele"
   ]
  },
  {
   "cell_type": "code",
   "execution_count": 270,
   "metadata": {},
   "outputs": [
    {
     "name": "stdout",
     "output_type": "stream",
     "text": [
      "Done.\n"
     ]
    },
    {
     "data": {
      "text/html": [
       "<table>\n",
       "    <tr>\n",
       "        <th>n1</th>\n",
       "        <th>tot1</th>\n",
       "        <th>tot1_1</th>\n",
       "    </tr>\n",
       "    <tr>\n",
       "        <td>Einar</td>\n",
       "        <td>10</td>\n",
       "        <td>10</td>\n",
       "    </tr>\n",
       "    <tr>\n",
       "        <td>Olav</td>\n",
       "        <td>15</td>\n",
       "        <td>10</td>\n",
       "    </tr>\n",
       "    <tr>\n",
       "        <td>Simon</td>\n",
       "        <td>15</td>\n",
       "        <td>10</td>\n",
       "    </tr>\n",
       "</table>"
      ],
      "text/plain": [
       "[('Einar', 10, 10), ('Olav', 15, 10), ('Simon', 15, 10)]"
      ]
     },
     "execution_count": 270,
     "metadata": {},
     "output_type": "execute_result"
    }
   ],
   "source": [
    "%%sql\n",
    "select man.n1, man.tot1, ele.tot1\n",
    "from (select first_name n1, sum(credit) as tot1 \n",
    "          from student join enrollment using (sID) \n",
    "          join course using (cID) where mandatory = 1  group by first_name) as man,\n",
    "    (select first_name n2, sum(credit) as tot1\n",
    "          from student join enrollment using (sID) \n",
    "            join course using (cID) where mandatory = 0  group by first_name) as ele"
   ]
  },
  {
   "cell_type": "markdown",
   "metadata": {},
   "source": [
    "Query for finding attendees in every course"
   ]
  },
  {
   "cell_type": "code",
   "execution_count": 272,
   "metadata": {},
   "outputs": [
    {
     "name": "stdout",
     "output_type": "stream",
     "text": [
      "Done.\n"
     ]
    },
    {
     "data": {
      "text/html": [
       "<table>\n",
       "    <tr>\n",
       "        <th>name</th>\n",
       "        <th>StudentsAttendingThisClass</th>\n",
       "    </tr>\n",
       "    <tr>\n",
       "        <td>ComputerScience</td>\n",
       "        <td>3</td>\n",
       "    </tr>\n",
       "    <tr>\n",
       "        <td>Database</td>\n",
       "        <td>0</td>\n",
       "    </tr>\n",
       "    <tr>\n",
       "        <td>DiscreteMath</td>\n",
       "        <td>0</td>\n",
       "    </tr>\n",
       "    <tr>\n",
       "        <td>Economy</td>\n",
       "        <td>2</td>\n",
       "    </tr>\n",
       "    <tr>\n",
       "        <td>Math</td>\n",
       "        <td>0</td>\n",
       "    </tr>\n",
       "    <tr>\n",
       "        <td>Physichs</td>\n",
       "        <td>1</td>\n",
       "    </tr>\n",
       "</table>"
      ],
      "text/plain": [
       "[('ComputerScience', 3),\n",
       " ('Database', 0),\n",
       " ('DiscreteMath', 0),\n",
       " ('Economy', 2),\n",
       " ('Math', 0),\n",
       " ('Physichs', 1)]"
      ]
     },
     "execution_count": 272,
     "metadata": {},
     "output_type": "execute_result"
    }
   ],
   "source": [
    "%%sql\n",
    "select name, count(sID) as StudentsAttendingThisClass\n",
    "from course left join enrollment using (cID)\n",
    "group by name"
   ]
  },
  {
   "cell_type": "markdown",
   "metadata": {},
   "source": [
    "Query for updating the student credits "
   ]
  },
  {
   "cell_type": "code",
   "execution_count": 171,
   "metadata": {},
   "outputs": [
    {
     "name": "stdout",
     "output_type": "stream",
     "text": [
      "3 rows affected.\n"
     ]
    },
    {
     "data": {
      "text/plain": [
       "[]"
      ]
     },
     "execution_count": 171,
     "metadata": {},
     "output_type": "execute_result"
    }
   ],
   "source": [
    "%%sql\n",
    "update student\n",
    "set credits = (select sum(credit) from course, enrollment where course.cID = enrollment.cID and enrollment.sID = student.sID)"
   ]
  },
  {
   "cell_type": "code",
   "execution_count": 172,
   "metadata": {},
   "outputs": [
    {
     "name": "stdout",
     "output_type": "stream",
     "text": [
      "Done.\n"
     ]
    },
    {
     "data": {
      "text/html": [
       "<table>\n",
       "    <tr>\n",
       "        <th>total</th>\n",
       "    </tr>\n",
       "    <tr>\n",
       "        <td>15</td>\n",
       "    </tr>\n",
       "    <tr>\n",
       "        <td>15</td>\n",
       "    </tr>\n",
       "    <tr>\n",
       "        <td>10</td>\n",
       "    </tr>\n",
       "</table>"
      ],
      "text/plain": [
       "[(15,), (15,), (10,)]"
      ]
     },
     "execution_count": 172,
     "metadata": {},
     "output_type": "execute_result"
    }
   ],
   "source": [
    "%%sql\n",
    "select sum(credit) as total from course join enrollment using (cID) join student using (sID) group by sID"
   ]
  },
  {
   "cell_type": "code",
   "execution_count": 173,
   "metadata": {},
   "outputs": [
    {
     "name": "stdout",
     "output_type": "stream",
     "text": [
      "Done.\n"
     ]
    },
    {
     "data": {
      "text/html": [
       "<table>\n",
       "    <tr>\n",
       "        <th>sID</th>\n",
       "        <th>pID</th>\n",
       "        <th>first_name</th>\n",
       "        <th>last_name</th>\n",
       "        <th>email</th>\n",
       "        <th>credits</th>\n",
       "    </tr>\n",
       "    <tr>\n",
       "        <td>1</td>\n",
       "        <td>2</td>\n",
       "        <td>Olav</td>\n",
       "        <td>Telseth</td>\n",
       "        <td>olav@ntnu.stud.no</td>\n",
       "        <td>15</td>\n",
       "    </tr>\n",
       "    <tr>\n",
       "        <td>2</td>\n",
       "        <td>2</td>\n",
       "        <td>Simon</td>\n",
       "        <td>Synnes</td>\n",
       "        <td>simon@ntnu.stud.no</td>\n",
       "        <td>15</td>\n",
       "    </tr>\n",
       "    <tr>\n",
       "        <td>3</td>\n",
       "        <td>2</td>\n",
       "        <td>Einar</td>\n",
       "        <td>Weltan</td>\n",
       "        <td>einar@ntnu.stud.no</td>\n",
       "        <td>10</td>\n",
       "    </tr>\n",
       "</table>"
      ],
      "text/plain": [
       "[(1, 2, 'Olav', 'Telseth', 'olav@ntnu.stud.no', 15),\n",
       " (2, 2, 'Simon', 'Synnes', 'simon@ntnu.stud.no', 15),\n",
       " (3, 2, 'Einar', 'Weltan', 'einar@ntnu.stud.no', 10)]"
      ]
     },
     "execution_count": 173,
     "metadata": {},
     "output_type": "execute_result"
    }
   ],
   "source": [
    "%%sql\n",
    "select *\n",
    "from student"
   ]
  },
  {
   "cell_type": "code",
   "execution_count": null,
   "metadata": {
    "collapsed": true
   },
   "outputs": [],
   "source": []
  }
 ],
 "metadata": {
  "kernelspec": {
   "display_name": "Python 3",
   "language": "python",
   "name": "python3"
  },
  "language_info": {
   "codemirror_mode": {
    "name": "ipython",
    "version": 3
   },
   "file_extension": ".py",
   "mimetype": "text/x-python",
   "name": "python",
   "nbconvert_exporter": "python",
   "pygments_lexer": "ipython3",
   "version": "3.6.1"
  }
 },
 "nbformat": 4,
 "nbformat_minor": 2
}
